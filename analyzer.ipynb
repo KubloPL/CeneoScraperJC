{
 "cells": [
  {
   "cell_type": "markdown",
   "metadata": {},
   "source": [
    "# Ceneo analyzer"
   ]
  },
  {
   "cell_type": "markdown",
   "metadata": {},
   "source": [
    "## Biblioteki"
   ]
  },
  {
   "cell_type": "code",
   "execution_count": 12,
   "metadata": {},
   "outputs": [],
   "source": [
    "import os\n",
    "import pandas as pd"
   ]
  },
  {
   "cell_type": "markdown",
   "metadata": {},
   "source": [
    "## Lista kodów produktów o których zostały pobrane opinie"
   ]
  },
  {
   "cell_type": "code",
   "execution_count": 13,
   "metadata": {},
   "outputs": [
    {
     "name": "stdout",
     "output_type": "stream",
     "text": [
      "53855739\n",
      "114700014\n",
      "113722034\n",
      "\n"
     ]
    }
   ],
   "source": [
    "print(*[filename.split(\".\")[0] for filename in os.listdir(\"opinions\")], sep=\"\\n\")"
   ]
  },
  {
   "cell_type": "markdown",
   "metadata": {},
   "source": [
    "## Kod produktu, którego opinie mają zostać przeanalizowane"
   ]
  },
  {
   "cell_type": "code",
   "execution_count": 14,
   "metadata": {},
   "outputs": [],
   "source": [
    "product_id = input(\"Proszę podać kod produktu z serwisu Ceneo.pl:\")"
   ]
  },
  {
   "cell_type": "markdown",
   "metadata": {},
   "source": [
    "## Wczytanie do obiektu pandas.DataFrame opinii o wskazanym produkcie "
   ]
  },
  {
   "cell_type": "code",
   "execution_count": 15,
   "metadata": {},
   "outputs": [],
   "source": [
    "opinions = pd.read_json(f\"opinions/{product_id}.json\")"
   ]
  },
  {
   "cell_type": "markdown",
   "metadata": {},
   "source": [
    "## Podstawowe statystyki zbioru opinii"
   ]
  },
  {
   "cell_type": "code",
   "execution_count": 16,
   "metadata": {},
   "outputs": [],
   "source": [
    "opinions.rating = opinions.rating.apply(lambda r: r.split(\"/\")[0].replace(\",\",\".\"), ).astype(float)"
   ]
  },
  {
   "cell_type": "code",
   "execution_count": 17,
   "metadata": {},
   "outputs": [],
   "source": [
    "opinions_count = opinions.shape[0]\n",
    "pros_count = opinions.pros.apply(lambda p: 1 if p else 0).sum()\n",
    "## pros_count = opinions.pros.apply(lambda p: None if not p else p).count()\n",
    "cons_count = opinions.cons.apply(lambda c: 1 if c else 0).sum() \n",
    "averge_rating = opinions.rating.mean()"
   ]
  },
  {
   "cell_type": "code",
   "execution_count": 18,
   "metadata": {},
   "outputs": [
    {
     "data": {
      "text/plain": [
       "242"
      ]
     },
     "execution_count": 18,
     "metadata": {},
     "output_type": "execute_result"
    }
   ],
   "source": [
    "pros_count"
   ]
  },
  {
   "cell_type": "code",
   "execution_count": 19,
   "metadata": {},
   "outputs": [
    {
     "data": {
      "text/html": [
       "<div>\n",
       "<style scoped>\n",
       "    .dataframe tbody tr th:only-of-type {\n",
       "        vertical-align: middle;\n",
       "    }\n",
       "\n",
       "    .dataframe tbody tr th {\n",
       "        vertical-align: top;\n",
       "    }\n",
       "\n",
       "    .dataframe thead th {\n",
       "        text-align: right;\n",
       "    }\n",
       "</style>\n",
       "<table border=\"1\" class=\"dataframe\">\n",
       "  <thead>\n",
       "    <tr style=\"text-align: right;\">\n",
       "      <th></th>\n",
       "      <th>opinion_id</th>\n",
       "      <th>author</th>\n",
       "      <th>recommendation</th>\n",
       "      <th>rating</th>\n",
       "      <th>content</th>\n",
       "      <th>pros</th>\n",
       "      <th>cons</th>\n",
       "      <th>useful</th>\n",
       "      <th>useless</th>\n",
       "      <th>post_date</th>\n",
       "      <th>purchase_date</th>\n",
       "    </tr>\n",
       "  </thead>\n",
       "  <tbody>\n",
       "    <tr>\n",
       "      <th>0</th>\n",
       "      <td>13806588</td>\n",
       "      <td>e...k</td>\n",
       "      <td>Polecam</td>\n",
       "      <td>5.0</td>\n",
       "      <td>Zapach obłędny ma to coś w sobie. Kupiłam na p...</td>\n",
       "      <td>[intensywność, piękny zapach, polecam, trwałoś...</td>\n",
       "      <td>[]</td>\n",
       "      <td>3</td>\n",
       "      <td>5</td>\n",
       "      <td>2021-01-20 14:10:54</td>\n",
       "      <td>2021-01-15 09:45:12</td>\n",
       "    </tr>\n",
       "    <tr>\n",
       "      <th>1</th>\n",
       "      <td>10800637</td>\n",
       "      <td>Użytkownik Ceneo</td>\n",
       "      <td>Polecam</td>\n",
       "      <td>4.5</td>\n",
       "      <td>Bardzo przyjemny zapach, który do pełna otwier...</td>\n",
       "      <td>[]</td>\n",
       "      <td>[]</td>\n",
       "      <td>9</td>\n",
       "      <td>5</td>\n",
       "      <td>2019-07-18 12:53:06</td>\n",
       "      <td>2019-07-08 23:08:23</td>\n",
       "    </tr>\n",
       "    <tr>\n",
       "      <th>2</th>\n",
       "      <td>18481839</td>\n",
       "      <td>m...k</td>\n",
       "      <td>Polecam</td>\n",
       "      <td>5.0</td>\n",
       "      <td>Pierwszy raz kupiłem ten perfum, ale zapach ba...</td>\n",
       "      <td>[intensywność, piękny zapach, trwałość, zapach]</td>\n",
       "      <td>[]</td>\n",
       "      <td>0</td>\n",
       "      <td>0</td>\n",
       "      <td>2024-03-12 09:17:24</td>\n",
       "      <td>2024-03-06 19:21:49</td>\n",
       "    </tr>\n",
       "    <tr>\n",
       "      <th>3</th>\n",
       "      <td>17919382</td>\n",
       "      <td>bronislawa50*****</td>\n",
       "      <td>Polecam</td>\n",
       "      <td>5.0</td>\n",
       "      <td>Jak najbardziej Ok. polecam</td>\n",
       "      <td>[intensywność, intensywny elegancki zapach, mę...</td>\n",
       "      <td>[]</td>\n",
       "      <td>1</td>\n",
       "      <td>0</td>\n",
       "      <td>2023-09-20 09:50:03</td>\n",
       "      <td>2023-09-08 11:55:23</td>\n",
       "    </tr>\n",
       "    <tr>\n",
       "      <th>4</th>\n",
       "      <td>8902918</td>\n",
       "      <td>Tilia</td>\n",
       "      <td>Polecam</td>\n",
       "      <td>5.0</td>\n",
       "      <td>Piękne, zmysłowe, męskie, urzekające. Mąż po u...</td>\n",
       "      <td>[intensywność, piękny zapach, polecam, trwałoś...</td>\n",
       "      <td>[]</td>\n",
       "      <td>7</td>\n",
       "      <td>0</td>\n",
       "      <td>2019-01-10 18:45:18</td>\n",
       "      <td>2018-12-10 17:35:08</td>\n",
       "    </tr>\n",
       "    <tr>\n",
       "      <th>...</th>\n",
       "      <td>...</td>\n",
       "      <td>...</td>\n",
       "      <td>...</td>\n",
       "      <td>...</td>\n",
       "      <td>...</td>\n",
       "      <td>...</td>\n",
       "      <td>...</td>\n",
       "      <td>...</td>\n",
       "      <td>...</td>\n",
       "      <td>...</td>\n",
       "      <td>...</td>\n",
       "    </tr>\n",
       "    <tr>\n",
       "      <th>495</th>\n",
       "      <td>10127500</td>\n",
       "      <td>ALV</td>\n",
       "      <td>Polecam</td>\n",
       "      <td>5.0</td>\n",
       "      <td>Super</td>\n",
       "      <td>[]</td>\n",
       "      <td>[]</td>\n",
       "      <td>0</td>\n",
       "      <td>0</td>\n",
       "      <td>2019-02-20 13:21:45</td>\n",
       "      <td>2019-02-10 11:40:29</td>\n",
       "    </tr>\n",
       "    <tr>\n",
       "      <th>496</th>\n",
       "      <td>18433542</td>\n",
       "      <td>m...z</td>\n",
       "      <td>Polecam</td>\n",
       "      <td>5.0</td>\n",
       "      <td>znam</td>\n",
       "      <td>[]</td>\n",
       "      <td>[]</td>\n",
       "      <td>0</td>\n",
       "      <td>0</td>\n",
       "      <td>2024-02-24 21:32:18</td>\n",
       "      <td>2024-02-19 12:25:15</td>\n",
       "    </tr>\n",
       "    <tr>\n",
       "      <th>497</th>\n",
       "      <td>18267365</td>\n",
       "      <td>w...2</td>\n",
       "      <td>Polecam</td>\n",
       "      <td>5.0</td>\n",
       "      <td>Ok</td>\n",
       "      <td>[]</td>\n",
       "      <td>[]</td>\n",
       "      <td>0</td>\n",
       "      <td>0</td>\n",
       "      <td>2024-01-03 10:09:48</td>\n",
       "      <td>2023-12-17 14:28:12</td>\n",
       "    </tr>\n",
       "    <tr>\n",
       "      <th>498</th>\n",
       "      <td>17907617</td>\n",
       "      <td>iwadabkowska</td>\n",
       "      <td>Polecam</td>\n",
       "      <td>4.5</td>\n",
       "      <td>Ok</td>\n",
       "      <td>[]</td>\n",
       "      <td>[]</td>\n",
       "      <td>0</td>\n",
       "      <td>0</td>\n",
       "      <td>2023-09-15 22:11:04</td>\n",
       "      <td>2023-09-07 09:49:42</td>\n",
       "    </tr>\n",
       "    <tr>\n",
       "      <th>499</th>\n",
       "      <td>15583103</td>\n",
       "      <td>m...5</td>\n",
       "      <td>Polecam</td>\n",
       "      <td>5.0</td>\n",
       "      <td>Ok</td>\n",
       "      <td>[]</td>\n",
       "      <td>[]</td>\n",
       "      <td>0</td>\n",
       "      <td>0</td>\n",
       "      <td>2022-01-19 21:56:57</td>\n",
       "      <td>2021-12-31 13:20:45</td>\n",
       "    </tr>\n",
       "  </tbody>\n",
       "</table>\n",
       "<p>500 rows × 11 columns</p>\n",
       "</div>"
      ],
      "text/plain": [
       "     opinion_id             author recommendation  rating  \\\n",
       "0      13806588              e...k        Polecam     5.0   \n",
       "1      10800637   Użytkownik Ceneo        Polecam     4.5   \n",
       "2      18481839              m...k        Polecam     5.0   \n",
       "3      17919382  bronislawa50*****        Polecam     5.0   \n",
       "4       8902918              Tilia        Polecam     5.0   \n",
       "..          ...                ...            ...     ...   \n",
       "495    10127500                ALV        Polecam     5.0   \n",
       "496    18433542              m...z        Polecam     5.0   \n",
       "497    18267365              w...2        Polecam     5.0   \n",
       "498    17907617       iwadabkowska        Polecam     4.5   \n",
       "499    15583103              m...5        Polecam     5.0   \n",
       "\n",
       "                                               content  \\\n",
       "0    Zapach obłędny ma to coś w sobie. Kupiłam na p...   \n",
       "1    Bardzo przyjemny zapach, który do pełna otwier...   \n",
       "2    Pierwszy raz kupiłem ten perfum, ale zapach ba...   \n",
       "3                          Jak najbardziej Ok. polecam   \n",
       "4    Piękne, zmysłowe, męskie, urzekające. Mąż po u...   \n",
       "..                                                 ...   \n",
       "495                                              Super   \n",
       "496                                               znam   \n",
       "497                                                 Ok   \n",
       "498                                                 Ok   \n",
       "499                                                 Ok   \n",
       "\n",
       "                                                  pros cons  useful  useless  \\\n",
       "0    [intensywność, piękny zapach, polecam, trwałoś...   []       3        5   \n",
       "1                                                   []   []       9        5   \n",
       "2      [intensywność, piękny zapach, trwałość, zapach]   []       0        0   \n",
       "3    [intensywność, intensywny elegancki zapach, mę...   []       1        0   \n",
       "4    [intensywność, piękny zapach, polecam, trwałoś...   []       7        0   \n",
       "..                                                 ...  ...     ...      ...   \n",
       "495                                                 []   []       0        0   \n",
       "496                                                 []   []       0        0   \n",
       "497                                                 []   []       0        0   \n",
       "498                                                 []   []       0        0   \n",
       "499                                                 []   []       0        0   \n",
       "\n",
       "               post_date        purchase_date  \n",
       "0    2021-01-20 14:10:54  2021-01-15 09:45:12  \n",
       "1    2019-07-18 12:53:06  2019-07-08 23:08:23  \n",
       "2    2024-03-12 09:17:24  2024-03-06 19:21:49  \n",
       "3    2023-09-20 09:50:03  2023-09-08 11:55:23  \n",
       "4    2019-01-10 18:45:18  2018-12-10 17:35:08  \n",
       "..                   ...                  ...  \n",
       "495  2019-02-20 13:21:45  2019-02-10 11:40:29  \n",
       "496  2024-02-24 21:32:18  2024-02-19 12:25:15  \n",
       "497  2024-01-03 10:09:48  2023-12-17 14:28:12  \n",
       "498  2023-09-15 22:11:04  2023-09-07 09:49:42  \n",
       "499  2022-01-19 21:56:57  2021-12-31 13:20:45  \n",
       "\n",
       "[500 rows x 11 columns]"
      ]
     },
     "execution_count": 19,
     "metadata": {},
     "output_type": "execute_result"
    }
   ],
   "source": [
    "opinions.pros\n",
    "opinions"
   ]
  }
 ],
 "metadata": {
  "kernelspec": {
   "display_name": ".venv",
   "language": "python",
   "name": "python3"
  },
  "language_info": {
   "codemirror_mode": {
    "name": "ipython",
    "version": 3
   },
   "file_extension": ".py",
   "mimetype": "text/x-python",
   "name": "python",
   "nbconvert_exporter": "python",
   "pygments_lexer": "ipython3",
   "version": "3.12.0"
  }
 },
 "nbformat": 4,
 "nbformat_minor": 2
}
